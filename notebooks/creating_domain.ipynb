{
 "metadata": {
  "language_info": {
   "codemirror_mode": {
    "name": "ipython",
    "version": 3
   },
   "file_extension": ".py",
   "mimetype": "text/x-python",
   "name": "python",
   "nbconvert_exporter": "python",
   "pygments_lexer": "ipython3",
   "version": "3.8.2-final"
  },
  "orig_nbformat": 2,
  "kernelspec": {
   "name": "python_defaultSpec_1599613590847",
   "display_name": "Python 3.8.2 64-bit ('.venv': venv)"
  }
 },
 "nbformat": 4,
 "nbformat_minor": 2,
 "cells": [
  {
   "cell_type": "code",
   "execution_count": 1,
   "metadata": {},
   "outputs": [],
   "source": [
    "import numpy as np"
   ]
  },
  {
   "cell_type": "code",
   "execution_count": 43,
   "metadata": {},
   "outputs": [],
   "source": [
    "N_PIECES_EACH = 3\n",
    "BOARD_SIZE = 3"
   ]
  },
  {
   "cell_type": "code",
   "execution_count": 44,
   "metadata": {},
   "outputs": [],
   "source": [
    "def count_vertical_and_horizontal(board: np.ndarray) -> int:\n",
    "    count = 0\n",
    "    for i in range(BOARD_SIZE):\n",
    "        column = board[:, i]\n",
    "        row = board[i, :]\n",
    "        # count the rows\n",
    "        n_white = np.count_nonzero(row == 'w')\n",
    "        n_black = np.count_nonzero(row == 'b')\n",
    "        if n_white > 0 and n_black > 0:\n",
    "            count += 1\n",
    "        # count the columns\n",
    "        n_white = np.count_nonzero(column == 'w')\n",
    "        n_black = np.count_nonzero(column == 'b')\n",
    "        if n_white > 0 and n_black > 0:\n",
    "            count += 1\n",
    "    return count\n",
    "\n"
   ]
  },
  {
   "cell_type": "code",
   "execution_count": 45,
   "metadata": {},
   "outputs": [],
   "source": [
    "def count_diagonals(board: np.ndarray) -> int:\n",
    "    count = 0\n",
    "    diags_f = [board[::-1,:].diagonal(i) for i in range(-board.shape[0],board.shape[1]-1)]\n",
    "    diags_b = [np.flipud(board)[::-1,:].diagonal(i) for i in range(-board.shape[0],board.shape[1]-1)]\n",
    "    for diag in diags_f + diags_b:\n",
    "        # count the piences\n",
    "        n_white = np.count_nonzero(diag == 'w')\n",
    "        n_black = np.count_nonzero(diag == 'b')\n",
    "        if n_white > 0 and n_black > 0:\n",
    "            count += 1\n",
    "\n",
    "    return count\n"
   ]
  },
  {
   "cell_type": "code",
   "execution_count": 46,
   "metadata": {},
   "outputs": [],
   "source": [
    "def create_board(black_pieces, white_pieces, board_size) -> np.ndarray:\n",
    "    board = np.empty((board_size, board_size), dtype=str)\n",
    "    for piece in black_pieces:\n",
    "        board.itemset(piece, 'black')\n",
    "    for piece in white_pieces:\n",
    "        board.itemset(piece, 'white')\n",
    "    return board"
   ]
  },
  {
   "cell_type": "code",
   "execution_count": 47,
   "metadata": {},
   "outputs": [],
   "source": [
    "black_pieces = [0, 1, 4]\n",
    "white_pieces = [7, 8, 6]\n",
    "board = create_board(black_pieces, white_pieces)"
   ]
  },
  {
   "cell_type": "code",
   "execution_count": 48,
   "metadata": {},
   "outputs": [
    {
     "output_type": "execute_result",
     "data": {
      "text/plain": "array([['b', 'b', ''],\n       ['', 'b', ''],\n       ['w', 'w', 'w']], dtype='<U1')"
     },
     "metadata": {},
     "execution_count": 48
    }
   ],
   "source": [
    "board"
   ]
  },
  {
   "cell_type": "code",
   "execution_count": 49,
   "metadata": {},
   "outputs": [
    {
     "output_type": "execute_result",
     "data": {
      "text/plain": "2"
     },
     "metadata": {},
     "execution_count": 49
    }
   ],
   "source": [
    "count_vertical_and_horizontal(board)"
   ]
  },
  {
   "cell_type": "code",
   "execution_count": 50,
   "metadata": {},
   "outputs": [
    {
     "output_type": "execute_result",
     "data": {
      "text/plain": "2"
     },
     "metadata": {},
     "execution_count": 50
    }
   ],
   "source": [
    "count_diagonals(board)"
   ]
  },
  {
   "cell_type": "code",
   "execution_count": 51,
   "metadata": {},
   "outputs": [],
   "source": [
    "def count_same_space(black_pieces, white_pieces) -> int:\n",
    "    pieces = np.array([*black_pieces, *white_pieces])\n",
    "    _, counts = np.unique(pieces, return_counts=True)\n",
    "    return np.sum(counts - np.ones_like(counts))"
   ]
  },
  {
   "cell_type": "code",
   "execution_count": 52,
   "metadata": {},
   "outputs": [],
   "source": [
    "def cost(iteration):\n",
    "    black_pieces = iteration[:N_PIECES_EACH]\n",
    "    white_pieces = iteration[N_PIECES_EACH:]\n",
    "    board = create_board(black_pieces, white_pieces)\n",
    "    return count_vertical_and_horizontal(board) + count_diagonals(board) + count_same_space(black_pieces, white_pieces)"
   ]
  }
 ]
}